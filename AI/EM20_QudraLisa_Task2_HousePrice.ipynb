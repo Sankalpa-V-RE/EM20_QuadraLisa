{
  "nbformat": 4,
  "nbformat_minor": 0,
  "metadata": {
    "colab": {
      "provenance": [],
      "gpuType": "T4"
    },
    "kernelspec": {
      "name": "python3",
      "display_name": "Python 3"
    },
    "language_info": {
      "name": "python"
    },
    "accelerator": "GPU"
  },
  "cells": [
    {
      "cell_type": "code",
      "source": [
        "!pip install xgboost lightgbm --quiet"
      ],
      "metadata": {
        "id": "5W5zGd8C2QIw"
      },
      "execution_count": 11,
      "outputs": []
    },
    {
      "cell_type": "code",
      "source": [
        "import pandas as pd\n",
        "import numpy as np\n",
        "from sklearn.model_selection import train_test_split\n",
        "from sklearn.preprocessing import StandardScaler\n",
        "from sklearn.metrics import mean_squared_error, mean_absolute_error, r2_score\n",
        "from sklearn.linear_model import LinearRegression\n",
        "from sklearn.ensemble import RandomForestRegressor\n",
        "import xgboost as xgb\n",
        "import lightgbm as lgb"
      ],
      "metadata": {
        "id": "s7-CHj9n2TRG"
      },
      "execution_count": 2,
      "outputs": []
    },
    {
      "cell_type": "code",
      "source": [
        "# Use gdown to download from Google Drive\n",
        "!gdown --id 128XLT44uu9bVSBPd6JiiYyv_M4LJP-3x -O train.csv\n",
        "!gdown --id 1JMUa5MIwyx3QEXk3KKt_u0AeMIDUjJUx -O test.csv\n",
        "\n",
        "# Load into pandas\n",
        "train = pd.read_csv(\"train.csv\")\n",
        "test = pd.read_csv(\"test.csv\")\n",
        "\n",
        "# Check first rows\n",
        "print(train.head())\n",
        "print(test.head())\n"
      ],
      "metadata": {
        "colab": {
          "base_uri": "https://localhost:8080/"
        },
        "id": "0qsOp4Ed2Vr_",
        "outputId": "852df6e6-074b-420c-faf2-425a743bf147"
      },
      "execution_count": 3,
      "outputs": [
        {
          "output_type": "stream",
          "name": "stdout",
          "text": [
            "/usr/local/lib/python3.12/dist-packages/gdown/__main__.py:140: FutureWarning: Option `--id` was deprecated in version 4.3.1 and will be removed in 5.0. You don't need to pass it anymore to use a file ID.\n",
            "  warnings.warn(\n",
            "Downloading...\n",
            "From: https://drive.google.com/uc?id=128XLT44uu9bVSBPd6JiiYyv_M4LJP-3x\n",
            "To: /content/train.csv\n",
            "100% 2.32M/2.32M [00:00<00:00, 215MB/s]\n",
            "/usr/local/lib/python3.12/dist-packages/gdown/__main__.py:140: FutureWarning: Option `--id` was deprecated in version 4.3.1 and will be removed in 5.0. You don't need to pass it anymore to use a file ID.\n",
            "  warnings.warn(\n",
            "Downloading...\n",
            "From: https://drive.google.com/uc?id=1JMUa5MIwyx3QEXk3KKt_u0AeMIDUjJUx\n",
            "To: /content/test.csv\n",
            "100% 452k/452k [00:00<00:00, 125MB/s]\n",
            "     house_id        sale_date  num_bedrooms  num_bathrooms  living_area  \\\n",
            "0  8902000050  20141027T000000             3           1.75       1720.0   \n",
            "1  4325700085  20150325T000000             3           1.00       1310.0   \n",
            "2  7732410420  20140617T000000             3           2.50       2590.0   \n",
            "3  4039701280  20150408T000000             3           2.25       2440.0   \n",
            "4  5379805120  20150424T000000             2           1.00        740.0   \n",
            "\n",
            "   lot_area  num_floors  is_waterfront  view_rating condition_index  ...  \\\n",
            "0    7200.0         1.0              0          0.0               3  ...   \n",
            "1    8514.0         1.0              0          0.0               4  ...   \n",
            "2    7720.0         2.0              0          0.0               3  ...   \n",
            "3    9689.0         1.0              0          2.0               4  ...   \n",
            "4    7380.0         1.0              0          0.0               4  ...   \n",
            "\n",
            "  above_area  basement_area  built_year  renovated_year zip_area latitude  \\\n",
            "0     1420.0          300.0        1959             0.0    98125  47.7062   \n",
            "1     1310.0            0.0        1953             0.0    98133  47.7502   \n",
            "2     2590.0            0.0        1988             0.0    98007  47.6590   \n",
            "3     1830.0          610.0        1974             0.0    98008  47.6141   \n",
            "4      740.0            0.0        1951             0.0    98188  47.4481   \n",
            "\n",
            "   longitude  neighbor_living_area  neighbor_lot_area  target_price  \n",
            "0   -122.304                  1380               8000      622200.0  \n",
            "1   -122.353                  1310               8514      417000.0  \n",
            "2   -122.146                  2600               9490      809000.0  \n",
            "3   -122.111                  2730               9689      954500.0  \n",
            "4   -122.278                  1500              10075      213000.0  \n",
            "\n",
            "[5 rows x 21 columns]\n",
            "     house_id        sale_date  num_bedrooms  num_bathrooms  living_area  \\\n",
            "0  2591820310  20141006T000000             4           2.25         2070   \n",
            "1  7974200820  20140821T000000             5           3.00         2900   \n",
            "2  7701450110  20140815T000000             4           2.50         3770   \n",
            "3  9522300010  20150331T000000             3           3.50         4560   \n",
            "4  9510861140  20140714T000000             3           2.50         2550   \n",
            "\n",
            "   lot_area  num_floors  is_waterfront  view_rating  condition_index  \\\n",
            "0      8893         2.0              0            0                4   \n",
            "1      6730         1.0              0            0                5   \n",
            "2     10893         2.0              0            2                3   \n",
            "3     14608         2.0              0            2                3   \n",
            "4      5376         2.0              0            0                3   \n",
            "\n",
            "   construction_grade  above_area  basement_area  built_year  renovated_year  \\\n",
            "0                   8        2070              0        1986               0   \n",
            "1                   8        1830           1070        1977               0   \n",
            "2                  11        3770              0        1997               0   \n",
            "3                  12        4560              0        1990               0   \n",
            "4                   9        2550              0        2004               0   \n",
            "\n",
            "   zip_area  latitude  longitude  neighbor_living_area  neighbor_lot_area  \n",
            "0     98058   47.4388   -122.162                  2390               7700  \n",
            "1     98115   47.6784   -122.285                  2370               6283  \n",
            "2     98006   47.5646   -122.129                  3710               9685  \n",
            "3     98034   47.6995   -122.228                  4050              14226  \n",
            "4     98052   47.6647   -122.083                  2250               4050  \n"
          ]
        }
      ]
    },
    {
      "cell_type": "code",
      "source": [
        "# Target\n",
        "y = train['target_price']\n",
        "\n",
        "# Features\n",
        "X = train.drop(['house_id', 'sale_date', 'target_price'], axis=1)\n",
        "X_test = test.drop(['house_id', 'sale_date'], axis=1)\n",
        "test_ids = test['house_id']\n"
      ],
      "metadata": {
        "id": "e6l1d9AO2akR"
      },
      "execution_count": 4,
      "outputs": []
    },
    {
      "cell_type": "code",
      "source": [
        "# Separate numeric and categorical columns\n",
        "numeric_cols = X.select_dtypes(include=['int64', 'float64']).columns\n",
        "categorical_cols = X.select_dtypes(include=['object']).columns\n",
        "\n",
        "# Fill missing values\n",
        "X[numeric_cols] = X[numeric_cols].fillna(X[numeric_cols].median())\n",
        "X[categorical_cols] = X[categorical_cols].fillna('Unknown')\n",
        "\n",
        "X_test[numeric_cols] = X_test[numeric_cols].fillna(X_test[numeric_cols].median())\n",
        "X_test[categorical_cols] = X_test[categorical_cols].fillna('Unknown')\n",
        "\n",
        "# One-hot encode categorical columns\n",
        "X = pd.get_dummies(X, columns=categorical_cols, drop_first=True)\n",
        "X_test = pd.get_dummies(X_test, columns=categorical_cols, drop_first=True)\n",
        "\n",
        "# Align test set columns to train set (in case some categories missing)\n",
        "X_test = X_test.reindex(columns=X.columns, fill_value=0)\n",
        "\n",
        "# Scale numeric features (optional)\n",
        "from sklearn.preprocessing import StandardScaler\n",
        "scaler = StandardScaler()\n",
        "X_scaled = scaler.fit_transform(X)\n",
        "X_test_scaled = scaler.transform(X_test)\n"
      ],
      "metadata": {
        "id": "ABKitFoq3VXh"
      },
      "execution_count": 6,
      "outputs": []
    },
    {
      "cell_type": "code",
      "source": [
        "X_train, X_val, y_train, y_val = train_test_split(\n",
        "    X_scaled, y, test_size=0.2, random_state=42\n",
        ")\n"
      ],
      "metadata": {
        "id": "JFp61jSw2f6s"
      },
      "execution_count": 7,
      "outputs": []
    },
    {
      "cell_type": "code",
      "source": [
        "# Define models\n",
        "models = {\n",
        "    \"LinearRegression\": LinearRegression(),\n",
        "    \"RandomForest\": RandomForestRegressor(n_estimators=200, random_state=42),\n",
        "    \"XGBoost\": xgb.XGBRegressor(n_estimators=200, random_state=42, learning_rate=0.1),\n",
        "    \"LightGBM\": lgb.LGBMRegressor(n_estimators=200, random_state=42)\n",
        "}\n",
        "\n",
        "# Store metrics\n",
        "results = {}\n",
        "\n",
        "for name, model in models.items():\n",
        "    model.fit(X_train, y_train)\n",
        "    preds = model.predict(X_val)\n",
        "\n",
        "    rmse = np.sqrt(mean_squared_error(y_val, preds))  # RMSE\n",
        "    mae = mean_absolute_error(y_val, preds)\n",
        "    r2 = r2_score(y_val, preds)\n",
        "\n",
        "    results[name] = [rmse, mae, r2]\n",
        "\n",
        "    print(f\"\\n🔹 {name} Results\")\n",
        "    print(f\"RMSE: {rmse:.2f}, MAE: {mae:.2f}, R2: {r2:.4f}\")\n",
        "\n"
      ],
      "metadata": {
        "colab": {
          "base_uri": "https://localhost:8080/"
        },
        "id": "JW6GpXVS2oEU",
        "outputId": "5e80199f-a4ab-442f-85c5-f23f6eab9de7"
      },
      "execution_count": 9,
      "outputs": [
        {
          "output_type": "stream",
          "name": "stdout",
          "text": [
            "\n",
            "🔹 LinearRegression Results\n",
            "RMSE: 1661393.78, MAE: 150649.04, R2: 0.0255\n",
            "\n",
            "🔹 RandomForest Results\n",
            "RMSE: 1692157.69, MAE: 111351.55, R2: -0.0109\n",
            "\n",
            "🔹 XGBoost Results\n",
            "RMSE: 1792768.10, MAE: 113124.71, R2: -0.1347\n",
            "[LightGBM] [Info] Auto-choosing row-wise multi-threading, the overhead of testing was 0.010281 seconds.\n",
            "You can set `force_row_wise=true` to remove the overhead.\n",
            "And if memory is not enough, you can set `force_col_wise=true`.\n",
            "[LightGBM] [Info] Total Bins 2519\n",
            "[LightGBM] [Info] Number of data points in the train set: 14523, number of used features: 119\n",
            "[LightGBM] [Info] Start training from score 559588.063738\n",
            "\n",
            "🔹 LightGBM Results\n",
            "RMSE: 1757473.79, MAE: 174855.91, R2: -0.0905\n"
          ]
        },
        {
          "output_type": "stream",
          "name": "stderr",
          "text": [
            "/usr/local/lib/python3.12/dist-packages/sklearn/utils/validation.py:2739: UserWarning: X does not have valid feature names, but LGBMRegressor was fitted with feature names\n",
            "  warnings.warn(\n"
          ]
        }
      ]
    },
    {
      "cell_type": "code",
      "source": [
        "metrics_df = pd.DataFrame(results, index=['RMSE', 'MAE', 'R2']).T\n",
        "print(\"\\n===== Model Performance Summary =====\")\n",
        "print(metrics_df)\n"
      ],
      "metadata": {
        "colab": {
          "base_uri": "https://localhost:8080/"
        },
        "id": "jLfkoG722skD",
        "outputId": "0da7a033-7d91-4145-ab6f-0e393fce6892"
      },
      "execution_count": 10,
      "outputs": [
        {
          "output_type": "stream",
          "name": "stdout",
          "text": [
            "\n",
            "===== Model Performance Summary =====\n",
            "                          RMSE            MAE        R2\n",
            "LinearRegression  1.661394e+06  150649.040832  0.025504\n",
            "RandomForest      1.692158e+06  111351.545696 -0.010919\n",
            "XGBoost           1.792768e+06  113124.712234 -0.134705\n",
            "LightGBM          1.757474e+06  174855.913997 -0.090467\n"
          ]
        }
      ]
    },
    {
      "cell_type": "code",
      "source": [
        "from sklearn.ensemble import RandomForestRegressor\n",
        "\n",
        "# Train on full data\n",
        "best_model = RandomForestRegressor(n_estimators=200, random_state=42)\n",
        "best_model.fit(X_scaled, y)\n",
        "print(\"Best Model:\", best_model)\n",
        "\n",
        "# Predict on test set\n",
        "test_preds = best_model.predict(X_test_scaled)\n",
        "\n",
        "# Check predictions\n",
        "print(\"First 10 predictions:\", test_preds[:10])\n"
      ],
      "metadata": {
        "colab": {
          "base_uri": "https://localhost:8080/"
        },
        "id": "SMKIuSlh5rLB",
        "outputId": "bf15e4b2-9e58-4f31-9eef-6ce04ee12cbf"
      },
      "execution_count": 18,
      "outputs": [
        {
          "output_type": "stream",
          "name": "stdout",
          "text": [
            "Best Model: RandomForestRegressor(n_estimators=200, random_state=42)\n",
            "First 10 predictions: [ 384599.21159407  884305.99470484 1133614.21039871 1942607.87556605\n",
            "  686903.69618977  250626.45701173  802396.40176562  640838.96757956\n",
            "  410319.13463041  545774.45776265]\n"
          ]
        }
      ]
    },
    {
      "cell_type": "code",
      "source": [
        "submission = pd.DataFrame({\n",
        "    \"house_id\": test_ids,\n",
        "    \"predicted_price\": test_preds\n",
        "})\n",
        "submission.to_csv(\"EM20_QudraLisa_Task2_HousePrice.csv\", index=False)\n",
        "print(submission.head())"
      ],
      "metadata": {
        "colab": {
          "base_uri": "https://localhost:8080/"
        },
        "id": "dBwnpU7Y5y3C",
        "outputId": "d119de3d-8749-45e7-c075-9c972fb904d7"
      },
      "execution_count": 14,
      "outputs": [
        {
          "output_type": "stream",
          "name": "stdout",
          "text": [
            "     house_id  predicted_price\n",
            "0  2591820310     3.845992e+05\n",
            "1  7974200820     8.843060e+05\n",
            "2  7701450110     1.133614e+06\n",
            "3  9522300010     1.942608e+06\n",
            "4  9510861140     6.869037e+05\n"
          ]
        }
      ]
    },
    {
      "cell_type": "code",
      "source": [
        "from google.colab import files\n",
        "\n",
        "# Download the submission CSV\n",
        "files.download(\"EM20_QudraLisa_Task2_HousePrice.csv\")\n"
      ],
      "metadata": {
        "colab": {
          "base_uri": "https://localhost:8080/",
          "height": 17
        },
        "id": "cmdozIf66YEM",
        "outputId": "fc0a4ab2-057b-46f9-a863-ebf6a709f6e3"
      },
      "execution_count": 15,
      "outputs": [
        {
          "output_type": "display_data",
          "data": {
            "text/plain": [
              "<IPython.core.display.Javascript object>"
            ],
            "application/javascript": [
              "\n",
              "    async function download(id, filename, size) {\n",
              "      if (!google.colab.kernel.accessAllowed) {\n",
              "        return;\n",
              "      }\n",
              "      const div = document.createElement('div');\n",
              "      const label = document.createElement('label');\n",
              "      label.textContent = `Downloading \"${filename}\": `;\n",
              "      div.appendChild(label);\n",
              "      const progress = document.createElement('progress');\n",
              "      progress.max = size;\n",
              "      div.appendChild(progress);\n",
              "      document.body.appendChild(div);\n",
              "\n",
              "      const buffers = [];\n",
              "      let downloaded = 0;\n",
              "\n",
              "      const channel = await google.colab.kernel.comms.open(id);\n",
              "      // Send a message to notify the kernel that we're ready.\n",
              "      channel.send({})\n",
              "\n",
              "      for await (const message of channel.messages) {\n",
              "        // Send a message to notify the kernel that we're ready.\n",
              "        channel.send({})\n",
              "        if (message.buffers) {\n",
              "          for (const buffer of message.buffers) {\n",
              "            buffers.push(buffer);\n",
              "            downloaded += buffer.byteLength;\n",
              "            progress.value = downloaded;\n",
              "          }\n",
              "        }\n",
              "      }\n",
              "      const blob = new Blob(buffers, {type: 'application/binary'});\n",
              "      const a = document.createElement('a');\n",
              "      a.href = window.URL.createObjectURL(blob);\n",
              "      a.download = filename;\n",
              "      div.appendChild(a);\n",
              "      a.click();\n",
              "      div.remove();\n",
              "    }\n",
              "  "
            ]
          },
          "metadata": {}
        },
        {
          "output_type": "display_data",
          "data": {
            "text/plain": [
              "<IPython.core.display.Javascript object>"
            ],
            "application/javascript": [
              "download(\"download_0cab04f1-6b8f-4a9c-a85b-32cb43f21cf6\", \"EM20_QudraLisa_Task2_HousePrice.csv\", 124701)"
            ]
          },
          "metadata": {}
        }
      ]
    }
  ]
}